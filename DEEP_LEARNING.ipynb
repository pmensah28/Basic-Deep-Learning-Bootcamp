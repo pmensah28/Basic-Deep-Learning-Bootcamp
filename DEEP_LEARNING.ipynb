{
  "nbformat": 4,
  "nbformat_minor": 0,
  "metadata": {
    "colab": {
      "name": "DEEP_LEARNING.ipynb",
      "provenance": [],
      "collapsed_sections": [],
      "authorship_tag": "ABX9TyNbYulxz2Sz5+yBgUJDPcU9",
      "include_colab_link": true
    },
    "kernelspec": {
      "name": "python3",
      "display_name": "Python 3"
    },
    "language_info": {
      "name": "python"
    }
  },
  "cells": [
    {
      "cell_type": "markdown",
      "metadata": {
        "id": "view-in-github",
        "colab_type": "text"
      },
      "source": [
        "<a href=\"https://colab.research.google.com/github/pmensah28/Prince_Mensah/blob/main/DEEP_LEARNING.ipynb\" target=\"_parent\"><img src=\"https://colab.research.google.com/assets/colab-badge.svg\" alt=\"Open In Colab\"/></a>"
      ]
    },
    {
      "cell_type": "markdown",
      "metadata": {
        "id": "OxWVBw1BxdDM"
      },
      "source": [
        "*mount drive containing dataset from google colab*"
      ]
    },
    {
      "cell_type": "code",
      "metadata": {
        "colab": {
          "base_uri": "https://localhost:8080/"
        },
        "id": "F7MpDd1QDIR9",
        "outputId": "a58a4f83-fd0f-4850-b7cc-783b1840591e"
      },
      "source": [
        "from google.colab import drive\n",
        "drive.mount(\"/content/drive\")"
      ],
      "execution_count": null,
      "outputs": [
        {
          "output_type": "stream",
          "text": [
            "Go to this URL in a browser: https://accounts.google.com/o/oauth2/auth?client_id=947318989803-6bn6qk8qdgf4n4g3pfee6491hc0brc4i.apps.googleusercontent.com&redirect_uri=urn%3aietf%3awg%3aoauth%3a2.0%3aoob&scope=email%20https%3a%2f%2fwww.googleapis.com%2fauth%2fdocs.test%20https%3a%2f%2fwww.googleapis.com%2fauth%2fdrive%20https%3a%2f%2fwww.googleapis.com%2fauth%2fdrive.photos.readonly%20https%3a%2f%2fwww.googleapis.com%2fauth%2fpeopleapi.readonly%20https%3a%2f%2fwww.googleapis.com%2fauth%2fdrive.activity.readonly%20https%3a%2f%2fwww.googleapis.com%2fauth%2fexperimentsandconfigs%20https%3a%2f%2fwww.googleapis.com%2fauth%2fphotos.native&response_type=code\n",
            "\n",
            "Enter your authorization code:\n",
            "4/1AY0e-g6m15QJK8XoJrIsOY-6dtDZBmsxT43V-hzzvr7v1JJH4o-6F0d7TGQ\n",
            "Mounted at /content/drive\n"
          ],
          "name": "stdout"
        }
      ]
    },
    {
      "cell_type": "markdown",
      "metadata": {
        "id": "Zf3_g_wZx8r1"
      },
      "source": [
        "*Import Libraries*"
      ]
    },
    {
      "cell_type": "code",
      "metadata": {
        "id": "rXP8hfOQCXUo"
      },
      "source": [
        "import numpy as np\n",
        "import pandas as pd\n",
        "from sklearn.preprocessing import StandardScaler\n",
        "from sklearn.model_selection import train_test_split\n",
        "import tensorflow as tf\n",
        "from tensorflow import keras\n",
        "import warnings\n",
        "warnings.filterwarnings('ignore')"
      ],
      "execution_count": 79,
      "outputs": []
    },
    {
      "cell_type": "markdown",
      "metadata": {
        "id": "Mznr8q5MyBgm"
      },
      "source": [
        "*Import Dataset from drive*"
      ]
    },
    {
      "cell_type": "code",
      "metadata": {
        "id": "-1IzmIJuDKrj"
      },
      "source": [
        "accident_data = pd.read_csv(\"/content/drive/MyDrive/Datasets/Accidents_2016.csv\")"
      ],
      "execution_count": null,
      "outputs": []
    },
    {
      "cell_type": "markdown",
      "metadata": {
        "id": "Ol-Km5styLkG"
      },
      "source": [
        "*visualize the dataset*"
      ]
    },
    {
      "cell_type": "code",
      "metadata": {
        "colab": {
          "base_uri": "https://localhost:8080/",
          "height": 443
        },
        "id": "oUCZl-rqEGbO",
        "outputId": "d2996bbe-b375-4275-d6ec-7e45640b35c1"
      },
      "source": [
        "accident_data  "
      ],
      "execution_count": null,
      "outputs": [
        {
          "output_type": "execute_result",
          "data": {
            "text/html": [
              "<div>\n",
              "<style scoped>\n",
              "    .dataframe tbody tr th:only-of-type {\n",
              "        vertical-align: middle;\n",
              "    }\n",
              "\n",
              "    .dataframe tbody tr th {\n",
              "        vertical-align: top;\n",
              "    }\n",
              "\n",
              "    .dataframe thead th {\n",
              "        text-align: right;\n",
              "    }\n",
              "</style>\n",
              "<table border=\"1\" class=\"dataframe\">\n",
              "  <thead>\n",
              "    <tr style=\"text-align: right;\">\n",
              "      <th></th>\n",
              "      <th>Accident_Index</th>\n",
              "      <th>Location_Easting_OSGR</th>\n",
              "      <th>Location_Northing_OSGR</th>\n",
              "      <th>Longitude</th>\n",
              "      <th>Latitude</th>\n",
              "      <th>Police_Force</th>\n",
              "      <th>Accident_Severity</th>\n",
              "      <th>Number_of_Vehicles</th>\n",
              "      <th>Number_of_Casualties</th>\n",
              "      <th>Date</th>\n",
              "      <th>Day_of_Week</th>\n",
              "      <th>Time</th>\n",
              "      <th>Local_Authority_(District)</th>\n",
              "      <th>Local_Authority_(Highway)</th>\n",
              "      <th>1st_Road_Class</th>\n",
              "      <th>1st_Road_Number</th>\n",
              "      <th>Road_Type</th>\n",
              "      <th>Speed_limit</th>\n",
              "      <th>Junction_Detail</th>\n",
              "      <th>Junction_Control</th>\n",
              "      <th>2nd_Road_Class</th>\n",
              "      <th>2nd_Road_Number</th>\n",
              "      <th>Pedestrian_Crossing-Human_Control</th>\n",
              "      <th>Pedestrian_Crossing-Physical_Facilities</th>\n",
              "      <th>Light_Conditions</th>\n",
              "      <th>Weather_Conditions</th>\n",
              "      <th>Road_Surface_Conditions</th>\n",
              "      <th>Special_Conditions_at_Site</th>\n",
              "      <th>Carriageway_Hazards</th>\n",
              "      <th>Urban_or_Rural_Area</th>\n",
              "      <th>Did_Police_Officer_Attend_Scene_of_Accident</th>\n",
              "      <th>LSOA_of_Accident_Location</th>\n",
              "    </tr>\n",
              "  </thead>\n",
              "  <tbody>\n",
              "    <tr>\n",
              "      <th>0</th>\n",
              "      <td>2016010000005</td>\n",
              "      <td>519310.0</td>\n",
              "      <td>188730.0</td>\n",
              "      <td>-0.279323</td>\n",
              "      <td>51.584754</td>\n",
              "      <td>1</td>\n",
              "      <td>3</td>\n",
              "      <td>2</td>\n",
              "      <td>1</td>\n",
              "      <td>01/11/2016</td>\n",
              "      <td>3</td>\n",
              "      <td>02:30</td>\n",
              "      <td>28</td>\n",
              "      <td>E09000005</td>\n",
              "      <td>3</td>\n",
              "      <td>4006</td>\n",
              "      <td>6</td>\n",
              "      <td>30.0</td>\n",
              "      <td>0</td>\n",
              "      <td>-1</td>\n",
              "      <td>-1</td>\n",
              "      <td>0</td>\n",
              "      <td>0</td>\n",
              "      <td>0</td>\n",
              "      <td>5</td>\n",
              "      <td>1</td>\n",
              "      <td>1</td>\n",
              "      <td>0</td>\n",
              "      <td>0</td>\n",
              "      <td>1</td>\n",
              "      <td>1</td>\n",
              "      <td>E01000543</td>\n",
              "    </tr>\n",
              "    <tr>\n",
              "      <th>1</th>\n",
              "      <td>2016010000006</td>\n",
              "      <td>551920.0</td>\n",
              "      <td>174560.0</td>\n",
              "      <td>0.184928</td>\n",
              "      <td>51.449595</td>\n",
              "      <td>1</td>\n",
              "      <td>3</td>\n",
              "      <td>1</td>\n",
              "      <td>1</td>\n",
              "      <td>01/11/2016</td>\n",
              "      <td>3</td>\n",
              "      <td>00:37</td>\n",
              "      <td>18</td>\n",
              "      <td>E09000004</td>\n",
              "      <td>3</td>\n",
              "      <td>207</td>\n",
              "      <td>6</td>\n",
              "      <td>30.0</td>\n",
              "      <td>9</td>\n",
              "      <td>4</td>\n",
              "      <td>6</td>\n",
              "      <td>0</td>\n",
              "      <td>0</td>\n",
              "      <td>0</td>\n",
              "      <td>4</td>\n",
              "      <td>1</td>\n",
              "      <td>1</td>\n",
              "      <td>0</td>\n",
              "      <td>0</td>\n",
              "      <td>1</td>\n",
              "      <td>1</td>\n",
              "      <td>E01000375</td>\n",
              "    </tr>\n",
              "    <tr>\n",
              "      <th>2</th>\n",
              "      <td>2016010000008</td>\n",
              "      <td>505930.0</td>\n",
              "      <td>183850.0</td>\n",
              "      <td>-0.473837</td>\n",
              "      <td>51.543563</td>\n",
              "      <td>1</td>\n",
              "      <td>3</td>\n",
              "      <td>1</td>\n",
              "      <td>1</td>\n",
              "      <td>01/11/2016</td>\n",
              "      <td>3</td>\n",
              "      <td>01:25</td>\n",
              "      <td>26</td>\n",
              "      <td>E09000017</td>\n",
              "      <td>3</td>\n",
              "      <td>4020</td>\n",
              "      <td>1</td>\n",
              "      <td>30.0</td>\n",
              "      <td>1</td>\n",
              "      <td>4</td>\n",
              "      <td>3</td>\n",
              "      <td>4020</td>\n",
              "      <td>0</td>\n",
              "      <td>0</td>\n",
              "      <td>4</td>\n",
              "      <td>1</td>\n",
              "      <td>1</td>\n",
              "      <td>0</td>\n",
              "      <td>0</td>\n",
              "      <td>1</td>\n",
              "      <td>1</td>\n",
              "      <td>E01033725</td>\n",
              "    </tr>\n",
              "    <tr>\n",
              "      <th>3</th>\n",
              "      <td>2016010000016</td>\n",
              "      <td>527770.0</td>\n",
              "      <td>168930.0</td>\n",
              "      <td>-0.164442</td>\n",
              "      <td>51.404958</td>\n",
              "      <td>1</td>\n",
              "      <td>3</td>\n",
              "      <td>1</td>\n",
              "      <td>1</td>\n",
              "      <td>01/11/2016</td>\n",
              "      <td>3</td>\n",
              "      <td>09:15</td>\n",
              "      <td>22</td>\n",
              "      <td>E09000024</td>\n",
              "      <td>3</td>\n",
              "      <td>217</td>\n",
              "      <td>6</td>\n",
              "      <td>30.0</td>\n",
              "      <td>3</td>\n",
              "      <td>2</td>\n",
              "      <td>3</td>\n",
              "      <td>217</td>\n",
              "      <td>0</td>\n",
              "      <td>0</td>\n",
              "      <td>1</td>\n",
              "      <td>1</td>\n",
              "      <td>1</td>\n",
              "      <td>0</td>\n",
              "      <td>0</td>\n",
              "      <td>1</td>\n",
              "      <td>1</td>\n",
              "      <td>E01003379</td>\n",
              "    </tr>\n",
              "    <tr>\n",
              "      <th>4</th>\n",
              "      <td>2016010000018</td>\n",
              "      <td>510740.0</td>\n",
              "      <td>177230.0</td>\n",
              "      <td>-0.406580</td>\n",
              "      <td>51.483139</td>\n",
              "      <td>1</td>\n",
              "      <td>3</td>\n",
              "      <td>2</td>\n",
              "      <td>1</td>\n",
              "      <td>01/11/2016</td>\n",
              "      <td>3</td>\n",
              "      <td>07:53</td>\n",
              "      <td>25</td>\n",
              "      <td>E09000018</td>\n",
              "      <td>3</td>\n",
              "      <td>312</td>\n",
              "      <td>3</td>\n",
              "      <td>40.0</td>\n",
              "      <td>0</td>\n",
              "      <td>-1</td>\n",
              "      <td>-1</td>\n",
              "      <td>0</td>\n",
              "      <td>0</td>\n",
              "      <td>0</td>\n",
              "      <td>1</td>\n",
              "      <td>1</td>\n",
              "      <td>1</td>\n",
              "      <td>0</td>\n",
              "      <td>0</td>\n",
              "      <td>1</td>\n",
              "      <td>1</td>\n",
              "      <td>E01002583</td>\n",
              "    </tr>\n",
              "    <tr>\n",
              "      <th>...</th>\n",
              "      <td>...</td>\n",
              "      <td>...</td>\n",
              "      <td>...</td>\n",
              "      <td>...</td>\n",
              "      <td>...</td>\n",
              "      <td>...</td>\n",
              "      <td>...</td>\n",
              "      <td>...</td>\n",
              "      <td>...</td>\n",
              "      <td>...</td>\n",
              "      <td>...</td>\n",
              "      <td>...</td>\n",
              "      <td>...</td>\n",
              "      <td>...</td>\n",
              "      <td>...</td>\n",
              "      <td>...</td>\n",
              "      <td>...</td>\n",
              "      <td>...</td>\n",
              "      <td>...</td>\n",
              "      <td>...</td>\n",
              "      <td>...</td>\n",
              "      <td>...</td>\n",
              "      <td>...</td>\n",
              "      <td>...</td>\n",
              "      <td>...</td>\n",
              "      <td>...</td>\n",
              "      <td>...</td>\n",
              "      <td>...</td>\n",
              "      <td>...</td>\n",
              "      <td>...</td>\n",
              "      <td>...</td>\n",
              "      <td>...</td>\n",
              "    </tr>\n",
              "    <tr>\n",
              "      <th>136616</th>\n",
              "      <td>2016984130916</td>\n",
              "      <td>319273.0</td>\n",
              "      <td>574564.0</td>\n",
              "      <td>-3.265390</td>\n",
              "      <td>55.058998</td>\n",
              "      <td>98</td>\n",
              "      <td>3</td>\n",
              "      <td>2</td>\n",
              "      <td>1</td>\n",
              "      <td>28/10/2016</td>\n",
              "      <td>6</td>\n",
              "      <td>06:45</td>\n",
              "      <td>917</td>\n",
              "      <td>S12000006</td>\n",
              "      <td>4</td>\n",
              "      <td>7076</td>\n",
              "      <td>6</td>\n",
              "      <td>30.0</td>\n",
              "      <td>3</td>\n",
              "      <td>4</td>\n",
              "      <td>4</td>\n",
              "      <td>725</td>\n",
              "      <td>0</td>\n",
              "      <td>0</td>\n",
              "      <td>4</td>\n",
              "      <td>1</td>\n",
              "      <td>2</td>\n",
              "      <td>0</td>\n",
              "      <td>0</td>\n",
              "      <td>2</td>\n",
              "      <td>1</td>\n",
              "      <td>NaN</td>\n",
              "    </tr>\n",
              "    <tr>\n",
              "      <th>136617</th>\n",
              "      <td>2016984131116</td>\n",
              "      <td>316143.0</td>\n",
              "      <td>568615.0</td>\n",
              "      <td>-3.312631</td>\n",
              "      <td>55.005033</td>\n",
              "      <td>98</td>\n",
              "      <td>3</td>\n",
              "      <td>2</td>\n",
              "      <td>2</td>\n",
              "      <td>01/11/2016</td>\n",
              "      <td>3</td>\n",
              "      <td>16:45</td>\n",
              "      <td>917</td>\n",
              "      <td>S12000006</td>\n",
              "      <td>4</td>\n",
              "      <td>7020</td>\n",
              "      <td>6</td>\n",
              "      <td>60.0</td>\n",
              "      <td>6</td>\n",
              "      <td>4</td>\n",
              "      <td>5</td>\n",
              "      <td>49</td>\n",
              "      <td>0</td>\n",
              "      <td>0</td>\n",
              "      <td>1</td>\n",
              "      <td>1</td>\n",
              "      <td>1</td>\n",
              "      <td>0</td>\n",
              "      <td>0</td>\n",
              "      <td>2</td>\n",
              "      <td>1</td>\n",
              "      <td>NaN</td>\n",
              "    </tr>\n",
              "    <tr>\n",
              "      <th>136618</th>\n",
              "      <td>2016984131216</td>\n",
              "      <td>322903.0</td>\n",
              "      <td>573365.0</td>\n",
              "      <td>-3.208249</td>\n",
              "      <td>55.048803</td>\n",
              "      <td>98</td>\n",
              "      <td>3</td>\n",
              "      <td>1</td>\n",
              "      <td>1</td>\n",
              "      <td>27/10/2016</td>\n",
              "      <td>5</td>\n",
              "      <td>07:10</td>\n",
              "      <td>917</td>\n",
              "      <td>S12000006</td>\n",
              "      <td>2</td>\n",
              "      <td>74</td>\n",
              "      <td>3</td>\n",
              "      <td>70.0</td>\n",
              "      <td>0</td>\n",
              "      <td>-1</td>\n",
              "      <td>-1</td>\n",
              "      <td>0</td>\n",
              "      <td>0</td>\n",
              "      <td>0</td>\n",
              "      <td>6</td>\n",
              "      <td>1</td>\n",
              "      <td>2</td>\n",
              "      <td>0</td>\n",
              "      <td>0</td>\n",
              "      <td>2</td>\n",
              "      <td>1</td>\n",
              "      <td>NaN</td>\n",
              "    </tr>\n",
              "    <tr>\n",
              "      <th>136619</th>\n",
              "      <td>2016984131316</td>\n",
              "      <td>318673.0</td>\n",
              "      <td>566850.0</td>\n",
              "      <td>-3.272584</td>\n",
              "      <td>54.989597</td>\n",
              "      <td>98</td>\n",
              "      <td>3</td>\n",
              "      <td>1</td>\n",
              "      <td>3</td>\n",
              "      <td>29/10/2016</td>\n",
              "      <td>7</td>\n",
              "      <td>20:00</td>\n",
              "      <td>917</td>\n",
              "      <td>S12000006</td>\n",
              "      <td>4</td>\n",
              "      <td>724</td>\n",
              "      <td>6</td>\n",
              "      <td>40.0</td>\n",
              "      <td>0</td>\n",
              "      <td>-1</td>\n",
              "      <td>-1</td>\n",
              "      <td>0</td>\n",
              "      <td>0</td>\n",
              "      <td>0</td>\n",
              "      <td>4</td>\n",
              "      <td>1</td>\n",
              "      <td>1</td>\n",
              "      <td>0</td>\n",
              "      <td>0</td>\n",
              "      <td>2</td>\n",
              "      <td>1</td>\n",
              "      <td>NaN</td>\n",
              "    </tr>\n",
              "    <tr>\n",
              "      <th>136620</th>\n",
              "      <td>2016984133416</td>\n",
              "      <td>308165.0</td>\n",
              "      <td>602737.0</td>\n",
              "      <td>-3.448392</td>\n",
              "      <td>55.310151</td>\n",
              "      <td>98</td>\n",
              "      <td>3</td>\n",
              "      <td>1</td>\n",
              "      <td>2</td>\n",
              "      <td>25/12/2016</td>\n",
              "      <td>1</td>\n",
              "      <td>12:30</td>\n",
              "      <td>917</td>\n",
              "      <td>S12000006</td>\n",
              "      <td>2</td>\n",
              "      <td>74</td>\n",
              "      <td>3</td>\n",
              "      <td>70.0</td>\n",
              "      <td>0</td>\n",
              "      <td>-1</td>\n",
              "      <td>-1</td>\n",
              "      <td>0</td>\n",
              "      <td>0</td>\n",
              "      <td>0</td>\n",
              "      <td>1</td>\n",
              "      <td>5</td>\n",
              "      <td>2</td>\n",
              "      <td>0</td>\n",
              "      <td>0</td>\n",
              "      <td>2</td>\n",
              "      <td>1</td>\n",
              "      <td>NaN</td>\n",
              "    </tr>\n",
              "  </tbody>\n",
              "</table>\n",
              "<p>136621 rows × 32 columns</p>\n",
              "</div>"
            ],
            "text/plain": [
              "       Accident_Index  ...  LSOA_of_Accident_Location\n",
              "0       2016010000005  ...                  E01000543\n",
              "1       2016010000006  ...                  E01000375\n",
              "2       2016010000008  ...                  E01033725\n",
              "3       2016010000016  ...                  E01003379\n",
              "4       2016010000018  ...                  E01002583\n",
              "...               ...  ...                        ...\n",
              "136616  2016984130916  ...                        NaN\n",
              "136617  2016984131116  ...                        NaN\n",
              "136618  2016984131216  ...                        NaN\n",
              "136619  2016984131316  ...                        NaN\n",
              "136620  2016984133416  ...                        NaN\n",
              "\n",
              "[136621 rows x 32 columns]"
            ]
          },
          "metadata": {
            "tags": []
          },
          "execution_count": 45
        }
      ]
    },
    {
      "cell_type": "markdown",
      "metadata": {
        "id": "LIIR3L0-yWop"
      },
      "source": [
        "*we used the info() function to get some informations about the dataset*"
      ]
    },
    {
      "cell_type": "code",
      "metadata": {
        "colab": {
          "base_uri": "https://localhost:8080/"
        },
        "id": "EmaopnWNEwhv",
        "outputId": "5263327f-3746-4f86-a158-3cfd86f8e524"
      },
      "source": [
        "accident_data.info() "
      ],
      "execution_count": null,
      "outputs": [
        {
          "output_type": "stream",
          "text": [
            "<class 'pandas.core.frame.DataFrame'>\n",
            "RangeIndex: 136621 entries, 0 to 136620\n",
            "Data columns (total 32 columns):\n",
            " #   Column                                       Non-Null Count   Dtype  \n",
            "---  ------                                       --------------   -----  \n",
            " 0   Accident_Index                               136621 non-null  object \n",
            " 1   Location_Easting_OSGR                        136614 non-null  float64\n",
            " 2   Location_Northing_OSGR                       136614 non-null  float64\n",
            " 3   Longitude                                    136614 non-null  float64\n",
            " 4   Latitude                                     136614 non-null  float64\n",
            " 5   Police_Force                                 136621 non-null  int64  \n",
            " 6   Accident_Severity                            136621 non-null  int64  \n",
            " 7   Number_of_Vehicles                           136621 non-null  int64  \n",
            " 8   Number_of_Casualties                         136621 non-null  int64  \n",
            " 9   Date                                         136621 non-null  object \n",
            " 10  Day_of_Week                                  136621 non-null  int64  \n",
            " 11  Time                                         136619 non-null  object \n",
            " 12  Local_Authority_(District)                   136621 non-null  int64  \n",
            " 13  Local_Authority_(Highway)                    136621 non-null  object \n",
            " 14  1st_Road_Class                               136621 non-null  int64  \n",
            " 15  1st_Road_Number                              136621 non-null  int64  \n",
            " 16  Road_Type                                    136621 non-null  int64  \n",
            " 17  Speed_limit                                  136584 non-null  float64\n",
            " 18  Junction_Detail                              136621 non-null  int64  \n",
            " 19  Junction_Control                             136621 non-null  int64  \n",
            " 20  2nd_Road_Class                               136621 non-null  int64  \n",
            " 21  2nd_Road_Number                              136621 non-null  int64  \n",
            " 22  Pedestrian_Crossing-Human_Control            136621 non-null  int64  \n",
            " 23  Pedestrian_Crossing-Physical_Facilities      136621 non-null  int64  \n",
            " 24  Light_Conditions                             136621 non-null  int64  \n",
            " 25  Weather_Conditions                           136621 non-null  int64  \n",
            " 26  Road_Surface_Conditions                      136621 non-null  int64  \n",
            " 27  Special_Conditions_at_Site                   136621 non-null  int64  \n",
            " 28  Carriageway_Hazards                          136621 non-null  int64  \n",
            " 29  Urban_or_Rural_Area                          136621 non-null  int64  \n",
            " 30  Did_Police_Officer_Attend_Scene_of_Accident  136621 non-null  int64  \n",
            " 31  LSOA_of_Accident_Location                    128270 non-null  object \n",
            "dtypes: float64(5), int64(22), object(5)\n",
            "memory usage: 33.4+ MB\n"
          ],
          "name": "stdout"
        }
      ]
    },
    {
      "cell_type": "markdown",
      "metadata": {
        "id": "RsgBA-sAGXmO"
      },
      "source": [
        "Missing Values"
      ]
    },
    {
      "cell_type": "code",
      "metadata": {
        "colab": {
          "base_uri": "https://localhost:8080/"
        },
        "id": "l4M661E0FD1e",
        "outputId": "18369cb7-8288-4381-ecc5-1f1b41171722"
      },
      "source": [
        "accident_data.isna().sum()  "
      ],
      "execution_count": null,
      "outputs": [
        {
          "output_type": "execute_result",
          "data": {
            "text/plain": [
              "Accident_Index                                    0\n",
              "Location_Easting_OSGR                             7\n",
              "Location_Northing_OSGR                            7\n",
              "Longitude                                         7\n",
              "Latitude                                          7\n",
              "Police_Force                                      0\n",
              "Accident_Severity                                 0\n",
              "Number_of_Vehicles                                0\n",
              "Number_of_Casualties                              0\n",
              "Date                                              0\n",
              "Day_of_Week                                       0\n",
              "Time                                              2\n",
              "Local_Authority_(District)                        0\n",
              "Local_Authority_(Highway)                         0\n",
              "1st_Road_Class                                    0\n",
              "1st_Road_Number                                   0\n",
              "Road_Type                                         0\n",
              "Speed_limit                                      37\n",
              "Junction_Detail                                   0\n",
              "Junction_Control                                  0\n",
              "2nd_Road_Class                                    0\n",
              "2nd_Road_Number                                   0\n",
              "Pedestrian_Crossing-Human_Control                 0\n",
              "Pedestrian_Crossing-Physical_Facilities           0\n",
              "Light_Conditions                                  0\n",
              "Weather_Conditions                                0\n",
              "Road_Surface_Conditions                           0\n",
              "Special_Conditions_at_Site                        0\n",
              "Carriageway_Hazards                               0\n",
              "Urban_or_Rural_Area                               0\n",
              "Did_Police_Officer_Attend_Scene_of_Accident       0\n",
              "LSOA_of_Accident_Location                      8351\n",
              "dtype: int64"
            ]
          },
          "metadata": {
            "tags": []
          },
          "execution_count": 47
        }
      ]
    },
    {
      "cell_type": "markdown",
      "metadata": {
        "id": "SokzlYJPyyA9"
      },
      "source": [
        "*columns containing null values in the dataset*"
      ]
    },
    {
      "cell_type": "code",
      "metadata": {
        "id": "QUHhMJpOGkpI"
      },
      "source": [
        "null_columns = ['LSOA_of_Accident_Location','Location_Easting_OSGR','Location_Northing_OSGR','Longitude','Latitude']"
      ],
      "execution_count": null,
      "outputs": []
    },
    {
      "cell_type": "markdown",
      "metadata": {
        "id": "LKjiRHLFy_Th"
      },
      "source": [
        "*drop all  null columns*"
      ]
    },
    {
      "cell_type": "code",
      "metadata": {
        "id": "dzupFLksK-xC"
      },
      "source": [
        "accident_data = accident_data.drop(null_columns, axis=1)"
      ],
      "execution_count": null,
      "outputs": []
    },
    {
      "cell_type": "markdown",
      "metadata": {
        "id": "jiY4cid-zIpR"
      },
      "source": [
        "*fill all the null columns in speed limit with the mean of Speed limit*"
      ]
    },
    {
      "cell_type": "code",
      "metadata": {
        "id": "1XkUT-VhNg3r"
      },
      "source": [
        "accident_data['Speed_limit'].fillna(accident_data['Speed_limit'].mean(), inplace=True)"
      ],
      "execution_count": null,
      "outputs": []
    },
    {
      "cell_type": "code",
      "metadata": {
        "colab": {
          "base_uri": "https://localhost:8080/"
        },
        "id": "lI1v2KchMowz",
        "outputId": "e48f20e7-f665-4143-9beb-9f8f59f7b2c2"
      },
      "source": [
        "accident_data.isna().sum()"
      ],
      "execution_count": null,
      "outputs": [
        {
          "output_type": "execute_result",
          "data": {
            "text/plain": [
              "Accident_Index                                 0\n",
              "Police_Force                                   0\n",
              "Accident_Severity                              0\n",
              "Number_of_Vehicles                             0\n",
              "Number_of_Casualties                           0\n",
              "Date                                           0\n",
              "Day_of_Week                                    0\n",
              "Time                                           2\n",
              "Local_Authority_(District)                     0\n",
              "Local_Authority_(Highway)                      0\n",
              "1st_Road_Class                                 0\n",
              "1st_Road_Number                                0\n",
              "Road_Type                                      0\n",
              "Speed_limit                                    0\n",
              "Junction_Detail                                0\n",
              "Junction_Control                               0\n",
              "2nd_Road_Class                                 0\n",
              "2nd_Road_Number                                0\n",
              "Pedestrian_Crossing-Human_Control              0\n",
              "Pedestrian_Crossing-Physical_Facilities        0\n",
              "Light_Conditions                               0\n",
              "Weather_Conditions                             0\n",
              "Road_Surface_Conditions                        0\n",
              "Special_Conditions_at_Site                     0\n",
              "Carriageway_Hazards                            0\n",
              "Urban_or_Rural_Area                            0\n",
              "Did_Police_Officer_Attend_Scene_of_Accident    0\n",
              "dtype: int64"
            ]
          },
          "metadata": {
            "tags": []
          },
          "execution_count": 51
        }
      ]
    },
    {
      "cell_type": "markdown",
      "metadata": {
        "id": "L8-gl_gHzd9x"
      },
      "source": [
        "*Drop rows containg null values*"
      ]
    },
    {
      "cell_type": "code",
      "metadata": {
        "id": "BrVDUuxNMvbB"
      },
      "source": [
        "accident_data = accident_data.dropna(axis=0).reset_index(drop=True)"
      ],
      "execution_count": null,
      "outputs": []
    },
    {
      "cell_type": "markdown",
      "metadata": {
        "id": "0u5ZhKcFztL3"
      },
      "source": [
        "*Now print to view whether are there still null values in the dataset*"
      ]
    },
    {
      "cell_type": "code",
      "metadata": {
        "colab": {
          "base_uri": "https://localhost:8080/"
        },
        "id": "cByXXHp7OXUM",
        "outputId": "67eb68ff-f024-4fd9-d029-4c5b66caf9ce"
      },
      "source": [
        "print('Total missing values: ', accident_data.isna().sum().sum())"
      ],
      "execution_count": null,
      "outputs": [
        {
          "output_type": "stream",
          "text": [
            "Total missing values:  0\n"
          ],
          "name": "stdout"
        }
      ]
    },
    {
      "cell_type": "code",
      "metadata": {
        "colab": {
          "base_uri": "https://localhost:8080/",
          "height": 443
        },
        "id": "2b5ULTmHO_zi",
        "outputId": "c6302a61-98d3-45d5-d2be-bf9c95a866c5"
      },
      "source": [
        "accident_data"
      ],
      "execution_count": null,
      "outputs": [
        {
          "output_type": "execute_result",
          "data": {
            "text/html": [
              "<div>\n",
              "<style scoped>\n",
              "    .dataframe tbody tr th:only-of-type {\n",
              "        vertical-align: middle;\n",
              "    }\n",
              "\n",
              "    .dataframe tbody tr th {\n",
              "        vertical-align: top;\n",
              "    }\n",
              "\n",
              "    .dataframe thead th {\n",
              "        text-align: right;\n",
              "    }\n",
              "</style>\n",
              "<table border=\"1\" class=\"dataframe\">\n",
              "  <thead>\n",
              "    <tr style=\"text-align: right;\">\n",
              "      <th></th>\n",
              "      <th>Accident_Index</th>\n",
              "      <th>Police_Force</th>\n",
              "      <th>Accident_Severity</th>\n",
              "      <th>Number_of_Vehicles</th>\n",
              "      <th>Number_of_Casualties</th>\n",
              "      <th>Date</th>\n",
              "      <th>Day_of_Week</th>\n",
              "      <th>Time</th>\n",
              "      <th>Local_Authority_(District)</th>\n",
              "      <th>Local_Authority_(Highway)</th>\n",
              "      <th>1st_Road_Class</th>\n",
              "      <th>1st_Road_Number</th>\n",
              "      <th>Road_Type</th>\n",
              "      <th>Speed_limit</th>\n",
              "      <th>Junction_Detail</th>\n",
              "      <th>Junction_Control</th>\n",
              "      <th>2nd_Road_Class</th>\n",
              "      <th>2nd_Road_Number</th>\n",
              "      <th>Pedestrian_Crossing-Human_Control</th>\n",
              "      <th>Pedestrian_Crossing-Physical_Facilities</th>\n",
              "      <th>Light_Conditions</th>\n",
              "      <th>Weather_Conditions</th>\n",
              "      <th>Road_Surface_Conditions</th>\n",
              "      <th>Special_Conditions_at_Site</th>\n",
              "      <th>Carriageway_Hazards</th>\n",
              "      <th>Urban_or_Rural_Area</th>\n",
              "      <th>Did_Police_Officer_Attend_Scene_of_Accident</th>\n",
              "    </tr>\n",
              "  </thead>\n",
              "  <tbody>\n",
              "    <tr>\n",
              "      <th>0</th>\n",
              "      <td>2016010000005</td>\n",
              "      <td>1</td>\n",
              "      <td>3</td>\n",
              "      <td>2</td>\n",
              "      <td>1</td>\n",
              "      <td>01/11/2016</td>\n",
              "      <td>3</td>\n",
              "      <td>02:30</td>\n",
              "      <td>28</td>\n",
              "      <td>E09000005</td>\n",
              "      <td>3</td>\n",
              "      <td>4006</td>\n",
              "      <td>6</td>\n",
              "      <td>30.0</td>\n",
              "      <td>0</td>\n",
              "      <td>-1</td>\n",
              "      <td>-1</td>\n",
              "      <td>0</td>\n",
              "      <td>0</td>\n",
              "      <td>0</td>\n",
              "      <td>5</td>\n",
              "      <td>1</td>\n",
              "      <td>1</td>\n",
              "      <td>0</td>\n",
              "      <td>0</td>\n",
              "      <td>1</td>\n",
              "      <td>1</td>\n",
              "    </tr>\n",
              "    <tr>\n",
              "      <th>1</th>\n",
              "      <td>2016010000006</td>\n",
              "      <td>1</td>\n",
              "      <td>3</td>\n",
              "      <td>1</td>\n",
              "      <td>1</td>\n",
              "      <td>01/11/2016</td>\n",
              "      <td>3</td>\n",
              "      <td>00:37</td>\n",
              "      <td>18</td>\n",
              "      <td>E09000004</td>\n",
              "      <td>3</td>\n",
              "      <td>207</td>\n",
              "      <td>6</td>\n",
              "      <td>30.0</td>\n",
              "      <td>9</td>\n",
              "      <td>4</td>\n",
              "      <td>6</td>\n",
              "      <td>0</td>\n",
              "      <td>0</td>\n",
              "      <td>0</td>\n",
              "      <td>4</td>\n",
              "      <td>1</td>\n",
              "      <td>1</td>\n",
              "      <td>0</td>\n",
              "      <td>0</td>\n",
              "      <td>1</td>\n",
              "      <td>1</td>\n",
              "    </tr>\n",
              "    <tr>\n",
              "      <th>2</th>\n",
              "      <td>2016010000008</td>\n",
              "      <td>1</td>\n",
              "      <td>3</td>\n",
              "      <td>1</td>\n",
              "      <td>1</td>\n",
              "      <td>01/11/2016</td>\n",
              "      <td>3</td>\n",
              "      <td>01:25</td>\n",
              "      <td>26</td>\n",
              "      <td>E09000017</td>\n",
              "      <td>3</td>\n",
              "      <td>4020</td>\n",
              "      <td>1</td>\n",
              "      <td>30.0</td>\n",
              "      <td>1</td>\n",
              "      <td>4</td>\n",
              "      <td>3</td>\n",
              "      <td>4020</td>\n",
              "      <td>0</td>\n",
              "      <td>0</td>\n",
              "      <td>4</td>\n",
              "      <td>1</td>\n",
              "      <td>1</td>\n",
              "      <td>0</td>\n",
              "      <td>0</td>\n",
              "      <td>1</td>\n",
              "      <td>1</td>\n",
              "    </tr>\n",
              "    <tr>\n",
              "      <th>3</th>\n",
              "      <td>2016010000016</td>\n",
              "      <td>1</td>\n",
              "      <td>3</td>\n",
              "      <td>1</td>\n",
              "      <td>1</td>\n",
              "      <td>01/11/2016</td>\n",
              "      <td>3</td>\n",
              "      <td>09:15</td>\n",
              "      <td>22</td>\n",
              "      <td>E09000024</td>\n",
              "      <td>3</td>\n",
              "      <td>217</td>\n",
              "      <td>6</td>\n",
              "      <td>30.0</td>\n",
              "      <td>3</td>\n",
              "      <td>2</td>\n",
              "      <td>3</td>\n",
              "      <td>217</td>\n",
              "      <td>0</td>\n",
              "      <td>0</td>\n",
              "      <td>1</td>\n",
              "      <td>1</td>\n",
              "      <td>1</td>\n",
              "      <td>0</td>\n",
              "      <td>0</td>\n",
              "      <td>1</td>\n",
              "      <td>1</td>\n",
              "    </tr>\n",
              "    <tr>\n",
              "      <th>4</th>\n",
              "      <td>2016010000018</td>\n",
              "      <td>1</td>\n",
              "      <td>3</td>\n",
              "      <td>2</td>\n",
              "      <td>1</td>\n",
              "      <td>01/11/2016</td>\n",
              "      <td>3</td>\n",
              "      <td>07:53</td>\n",
              "      <td>25</td>\n",
              "      <td>E09000018</td>\n",
              "      <td>3</td>\n",
              "      <td>312</td>\n",
              "      <td>3</td>\n",
              "      <td>40.0</td>\n",
              "      <td>0</td>\n",
              "      <td>-1</td>\n",
              "      <td>-1</td>\n",
              "      <td>0</td>\n",
              "      <td>0</td>\n",
              "      <td>0</td>\n",
              "      <td>1</td>\n",
              "      <td>1</td>\n",
              "      <td>1</td>\n",
              "      <td>0</td>\n",
              "      <td>0</td>\n",
              "      <td>1</td>\n",
              "      <td>1</td>\n",
              "    </tr>\n",
              "    <tr>\n",
              "      <th>...</th>\n",
              "      <td>...</td>\n",
              "      <td>...</td>\n",
              "      <td>...</td>\n",
              "      <td>...</td>\n",
              "      <td>...</td>\n",
              "      <td>...</td>\n",
              "      <td>...</td>\n",
              "      <td>...</td>\n",
              "      <td>...</td>\n",
              "      <td>...</td>\n",
              "      <td>...</td>\n",
              "      <td>...</td>\n",
              "      <td>...</td>\n",
              "      <td>...</td>\n",
              "      <td>...</td>\n",
              "      <td>...</td>\n",
              "      <td>...</td>\n",
              "      <td>...</td>\n",
              "      <td>...</td>\n",
              "      <td>...</td>\n",
              "      <td>...</td>\n",
              "      <td>...</td>\n",
              "      <td>...</td>\n",
              "      <td>...</td>\n",
              "      <td>...</td>\n",
              "      <td>...</td>\n",
              "      <td>...</td>\n",
              "    </tr>\n",
              "    <tr>\n",
              "      <th>136614</th>\n",
              "      <td>2016984130916</td>\n",
              "      <td>98</td>\n",
              "      <td>3</td>\n",
              "      <td>2</td>\n",
              "      <td>1</td>\n",
              "      <td>28/10/2016</td>\n",
              "      <td>6</td>\n",
              "      <td>06:45</td>\n",
              "      <td>917</td>\n",
              "      <td>S12000006</td>\n",
              "      <td>4</td>\n",
              "      <td>7076</td>\n",
              "      <td>6</td>\n",
              "      <td>30.0</td>\n",
              "      <td>3</td>\n",
              "      <td>4</td>\n",
              "      <td>4</td>\n",
              "      <td>725</td>\n",
              "      <td>0</td>\n",
              "      <td>0</td>\n",
              "      <td>4</td>\n",
              "      <td>1</td>\n",
              "      <td>2</td>\n",
              "      <td>0</td>\n",
              "      <td>0</td>\n",
              "      <td>2</td>\n",
              "      <td>1</td>\n",
              "    </tr>\n",
              "    <tr>\n",
              "      <th>136615</th>\n",
              "      <td>2016984131116</td>\n",
              "      <td>98</td>\n",
              "      <td>3</td>\n",
              "      <td>2</td>\n",
              "      <td>2</td>\n",
              "      <td>01/11/2016</td>\n",
              "      <td>3</td>\n",
              "      <td>16:45</td>\n",
              "      <td>917</td>\n",
              "      <td>S12000006</td>\n",
              "      <td>4</td>\n",
              "      <td>7020</td>\n",
              "      <td>6</td>\n",
              "      <td>60.0</td>\n",
              "      <td>6</td>\n",
              "      <td>4</td>\n",
              "      <td>5</td>\n",
              "      <td>49</td>\n",
              "      <td>0</td>\n",
              "      <td>0</td>\n",
              "      <td>1</td>\n",
              "      <td>1</td>\n",
              "      <td>1</td>\n",
              "      <td>0</td>\n",
              "      <td>0</td>\n",
              "      <td>2</td>\n",
              "      <td>1</td>\n",
              "    </tr>\n",
              "    <tr>\n",
              "      <th>136616</th>\n",
              "      <td>2016984131216</td>\n",
              "      <td>98</td>\n",
              "      <td>3</td>\n",
              "      <td>1</td>\n",
              "      <td>1</td>\n",
              "      <td>27/10/2016</td>\n",
              "      <td>5</td>\n",
              "      <td>07:10</td>\n",
              "      <td>917</td>\n",
              "      <td>S12000006</td>\n",
              "      <td>2</td>\n",
              "      <td>74</td>\n",
              "      <td>3</td>\n",
              "      <td>70.0</td>\n",
              "      <td>0</td>\n",
              "      <td>-1</td>\n",
              "      <td>-1</td>\n",
              "      <td>0</td>\n",
              "      <td>0</td>\n",
              "      <td>0</td>\n",
              "      <td>6</td>\n",
              "      <td>1</td>\n",
              "      <td>2</td>\n",
              "      <td>0</td>\n",
              "      <td>0</td>\n",
              "      <td>2</td>\n",
              "      <td>1</td>\n",
              "    </tr>\n",
              "    <tr>\n",
              "      <th>136617</th>\n",
              "      <td>2016984131316</td>\n",
              "      <td>98</td>\n",
              "      <td>3</td>\n",
              "      <td>1</td>\n",
              "      <td>3</td>\n",
              "      <td>29/10/2016</td>\n",
              "      <td>7</td>\n",
              "      <td>20:00</td>\n",
              "      <td>917</td>\n",
              "      <td>S12000006</td>\n",
              "      <td>4</td>\n",
              "      <td>724</td>\n",
              "      <td>6</td>\n",
              "      <td>40.0</td>\n",
              "      <td>0</td>\n",
              "      <td>-1</td>\n",
              "      <td>-1</td>\n",
              "      <td>0</td>\n",
              "      <td>0</td>\n",
              "      <td>0</td>\n",
              "      <td>4</td>\n",
              "      <td>1</td>\n",
              "      <td>1</td>\n",
              "      <td>0</td>\n",
              "      <td>0</td>\n",
              "      <td>2</td>\n",
              "      <td>1</td>\n",
              "    </tr>\n",
              "    <tr>\n",
              "      <th>136618</th>\n",
              "      <td>2016984133416</td>\n",
              "      <td>98</td>\n",
              "      <td>3</td>\n",
              "      <td>1</td>\n",
              "      <td>2</td>\n",
              "      <td>25/12/2016</td>\n",
              "      <td>1</td>\n",
              "      <td>12:30</td>\n",
              "      <td>917</td>\n",
              "      <td>S12000006</td>\n",
              "      <td>2</td>\n",
              "      <td>74</td>\n",
              "      <td>3</td>\n",
              "      <td>70.0</td>\n",
              "      <td>0</td>\n",
              "      <td>-1</td>\n",
              "      <td>-1</td>\n",
              "      <td>0</td>\n",
              "      <td>0</td>\n",
              "      <td>0</td>\n",
              "      <td>1</td>\n",
              "      <td>5</td>\n",
              "      <td>2</td>\n",
              "      <td>0</td>\n",
              "      <td>0</td>\n",
              "      <td>2</td>\n",
              "      <td>1</td>\n",
              "    </tr>\n",
              "  </tbody>\n",
              "</table>\n",
              "<p>136619 rows × 27 columns</p>\n",
              "</div>"
            ],
            "text/plain": [
              "       Accident_Index  ...  Did_Police_Officer_Attend_Scene_of_Accident\n",
              "0       2016010000005  ...                                            1\n",
              "1       2016010000006  ...                                            1\n",
              "2       2016010000008  ...                                            1\n",
              "3       2016010000016  ...                                            1\n",
              "4       2016010000018  ...                                            1\n",
              "...               ...  ...                                          ...\n",
              "136614  2016984130916  ...                                            1\n",
              "136615  2016984131116  ...                                            1\n",
              "136616  2016984131216  ...                                            1\n",
              "136617  2016984131316  ...                                            1\n",
              "136618  2016984133416  ...                                            1\n",
              "\n",
              "[136619 rows x 27 columns]"
            ]
          },
          "metadata": {
            "tags": []
          },
          "execution_count": 54
        }
      ]
    },
    {
      "cell_type": "markdown",
      "metadata": {
        "id": "o8S4ruXl0BBp"
      },
      "source": [
        "*view columns with objects*"
      ]
    },
    {
      "cell_type": "code",
      "metadata": {
        "colab": {
          "base_uri": "https://localhost:8080/"
        },
        "id": "6bgeZwCOPHfn",
        "outputId": "e88a185c-a7de-48f6-cca1-05ea65288537"
      },
      "source": [
        "{column: len(accident_data[column].unique()) for column in accident_data.columns if accident_data.dtypes[column] == 'object'}"
      ],
      "execution_count": null,
      "outputs": [
        {
          "output_type": "execute_result",
          "data": {
            "text/plain": [
              "{'Accident_Index': 136619,\n",
              " 'Date': 366,\n",
              " 'Local_Authority_(Highway)': 207,\n",
              " 'Time': 1439}"
            ]
          },
          "metadata": {
            "tags": []
          },
          "execution_count": 55
        }
      ]
    },
    {
      "cell_type": "markdown",
      "metadata": {
        "id": "he-sOx0bTgCM"
      },
      "source": [
        "unnecessary columns"
      ]
    },
    {
      "cell_type": "markdown",
      "metadata": {
        "id": "sGfK5HAH0QRo"
      },
      "source": [
        "*assign the unnecessary columns to a variable and drop them*"
      ]
    },
    {
      "cell_type": "code",
      "metadata": {
        "id": "2D5AtDarQKPe"
      },
      "source": [
        "un_columns = ['Accident_Index','Date','Time','Local_Authority_(District)','Local_Authority_(Highway)','1st_Road_Number','2nd_Road_Number','Police_Force']"
      ],
      "execution_count": null,
      "outputs": []
    },
    {
      "cell_type": "code",
      "metadata": {
        "id": "yOwhrMLIWu5x"
      },
      "source": [
        "accident_data = accident_data.drop(un_columns, axis=1)"
      ],
      "execution_count": null,
      "outputs": []
    },
    {
      "cell_type": "code",
      "metadata": {
        "colab": {
          "base_uri": "https://localhost:8080/",
          "height": 443
        },
        "id": "WFVCYxfIXAav",
        "outputId": "8eff344c-6d36-4bae-ea70-8c6cf694b751"
      },
      "source": [
        "accident_data"
      ],
      "execution_count": null,
      "outputs": [
        {
          "output_type": "execute_result",
          "data": {
            "text/html": [
              "<div>\n",
              "<style scoped>\n",
              "    .dataframe tbody tr th:only-of-type {\n",
              "        vertical-align: middle;\n",
              "    }\n",
              "\n",
              "    .dataframe tbody tr th {\n",
              "        vertical-align: top;\n",
              "    }\n",
              "\n",
              "    .dataframe thead th {\n",
              "        text-align: right;\n",
              "    }\n",
              "</style>\n",
              "<table border=\"1\" class=\"dataframe\">\n",
              "  <thead>\n",
              "    <tr style=\"text-align: right;\">\n",
              "      <th></th>\n",
              "      <th>Accident_Severity</th>\n",
              "      <th>Number_of_Vehicles</th>\n",
              "      <th>Number_of_Casualties</th>\n",
              "      <th>Day_of_Week</th>\n",
              "      <th>1st_Road_Class</th>\n",
              "      <th>Road_Type</th>\n",
              "      <th>Speed_limit</th>\n",
              "      <th>Junction_Detail</th>\n",
              "      <th>Junction_Control</th>\n",
              "      <th>2nd_Road_Class</th>\n",
              "      <th>Pedestrian_Crossing-Human_Control</th>\n",
              "      <th>Pedestrian_Crossing-Physical_Facilities</th>\n",
              "      <th>Light_Conditions</th>\n",
              "      <th>Weather_Conditions</th>\n",
              "      <th>Road_Surface_Conditions</th>\n",
              "      <th>Special_Conditions_at_Site</th>\n",
              "      <th>Carriageway_Hazards</th>\n",
              "      <th>Urban_or_Rural_Area</th>\n",
              "      <th>Did_Police_Officer_Attend_Scene_of_Accident</th>\n",
              "    </tr>\n",
              "  </thead>\n",
              "  <tbody>\n",
              "    <tr>\n",
              "      <th>0</th>\n",
              "      <td>3</td>\n",
              "      <td>2</td>\n",
              "      <td>1</td>\n",
              "      <td>3</td>\n",
              "      <td>3</td>\n",
              "      <td>6</td>\n",
              "      <td>30.0</td>\n",
              "      <td>0</td>\n",
              "      <td>-1</td>\n",
              "      <td>-1</td>\n",
              "      <td>0</td>\n",
              "      <td>0</td>\n",
              "      <td>5</td>\n",
              "      <td>1</td>\n",
              "      <td>1</td>\n",
              "      <td>0</td>\n",
              "      <td>0</td>\n",
              "      <td>1</td>\n",
              "      <td>1</td>\n",
              "    </tr>\n",
              "    <tr>\n",
              "      <th>1</th>\n",
              "      <td>3</td>\n",
              "      <td>1</td>\n",
              "      <td>1</td>\n",
              "      <td>3</td>\n",
              "      <td>3</td>\n",
              "      <td>6</td>\n",
              "      <td>30.0</td>\n",
              "      <td>9</td>\n",
              "      <td>4</td>\n",
              "      <td>6</td>\n",
              "      <td>0</td>\n",
              "      <td>0</td>\n",
              "      <td>4</td>\n",
              "      <td>1</td>\n",
              "      <td>1</td>\n",
              "      <td>0</td>\n",
              "      <td>0</td>\n",
              "      <td>1</td>\n",
              "      <td>1</td>\n",
              "    </tr>\n",
              "    <tr>\n",
              "      <th>2</th>\n",
              "      <td>3</td>\n",
              "      <td>1</td>\n",
              "      <td>1</td>\n",
              "      <td>3</td>\n",
              "      <td>3</td>\n",
              "      <td>1</td>\n",
              "      <td>30.0</td>\n",
              "      <td>1</td>\n",
              "      <td>4</td>\n",
              "      <td>3</td>\n",
              "      <td>0</td>\n",
              "      <td>0</td>\n",
              "      <td>4</td>\n",
              "      <td>1</td>\n",
              "      <td>1</td>\n",
              "      <td>0</td>\n",
              "      <td>0</td>\n",
              "      <td>1</td>\n",
              "      <td>1</td>\n",
              "    </tr>\n",
              "    <tr>\n",
              "      <th>3</th>\n",
              "      <td>3</td>\n",
              "      <td>1</td>\n",
              "      <td>1</td>\n",
              "      <td>3</td>\n",
              "      <td>3</td>\n",
              "      <td>6</td>\n",
              "      <td>30.0</td>\n",
              "      <td>3</td>\n",
              "      <td>2</td>\n",
              "      <td>3</td>\n",
              "      <td>0</td>\n",
              "      <td>0</td>\n",
              "      <td>1</td>\n",
              "      <td>1</td>\n",
              "      <td>1</td>\n",
              "      <td>0</td>\n",
              "      <td>0</td>\n",
              "      <td>1</td>\n",
              "      <td>1</td>\n",
              "    </tr>\n",
              "    <tr>\n",
              "      <th>4</th>\n",
              "      <td>3</td>\n",
              "      <td>2</td>\n",
              "      <td>1</td>\n",
              "      <td>3</td>\n",
              "      <td>3</td>\n",
              "      <td>3</td>\n",
              "      <td>40.0</td>\n",
              "      <td>0</td>\n",
              "      <td>-1</td>\n",
              "      <td>-1</td>\n",
              "      <td>0</td>\n",
              "      <td>0</td>\n",
              "      <td>1</td>\n",
              "      <td>1</td>\n",
              "      <td>1</td>\n",
              "      <td>0</td>\n",
              "      <td>0</td>\n",
              "      <td>1</td>\n",
              "      <td>1</td>\n",
              "    </tr>\n",
              "    <tr>\n",
              "      <th>...</th>\n",
              "      <td>...</td>\n",
              "      <td>...</td>\n",
              "      <td>...</td>\n",
              "      <td>...</td>\n",
              "      <td>...</td>\n",
              "      <td>...</td>\n",
              "      <td>...</td>\n",
              "      <td>...</td>\n",
              "      <td>...</td>\n",
              "      <td>...</td>\n",
              "      <td>...</td>\n",
              "      <td>...</td>\n",
              "      <td>...</td>\n",
              "      <td>...</td>\n",
              "      <td>...</td>\n",
              "      <td>...</td>\n",
              "      <td>...</td>\n",
              "      <td>...</td>\n",
              "      <td>...</td>\n",
              "    </tr>\n",
              "    <tr>\n",
              "      <th>136614</th>\n",
              "      <td>3</td>\n",
              "      <td>2</td>\n",
              "      <td>1</td>\n",
              "      <td>6</td>\n",
              "      <td>4</td>\n",
              "      <td>6</td>\n",
              "      <td>30.0</td>\n",
              "      <td>3</td>\n",
              "      <td>4</td>\n",
              "      <td>4</td>\n",
              "      <td>0</td>\n",
              "      <td>0</td>\n",
              "      <td>4</td>\n",
              "      <td>1</td>\n",
              "      <td>2</td>\n",
              "      <td>0</td>\n",
              "      <td>0</td>\n",
              "      <td>2</td>\n",
              "      <td>1</td>\n",
              "    </tr>\n",
              "    <tr>\n",
              "      <th>136615</th>\n",
              "      <td>3</td>\n",
              "      <td>2</td>\n",
              "      <td>2</td>\n",
              "      <td>3</td>\n",
              "      <td>4</td>\n",
              "      <td>6</td>\n",
              "      <td>60.0</td>\n",
              "      <td>6</td>\n",
              "      <td>4</td>\n",
              "      <td>5</td>\n",
              "      <td>0</td>\n",
              "      <td>0</td>\n",
              "      <td>1</td>\n",
              "      <td>1</td>\n",
              "      <td>1</td>\n",
              "      <td>0</td>\n",
              "      <td>0</td>\n",
              "      <td>2</td>\n",
              "      <td>1</td>\n",
              "    </tr>\n",
              "    <tr>\n",
              "      <th>136616</th>\n",
              "      <td>3</td>\n",
              "      <td>1</td>\n",
              "      <td>1</td>\n",
              "      <td>5</td>\n",
              "      <td>2</td>\n",
              "      <td>3</td>\n",
              "      <td>70.0</td>\n",
              "      <td>0</td>\n",
              "      <td>-1</td>\n",
              "      <td>-1</td>\n",
              "      <td>0</td>\n",
              "      <td>0</td>\n",
              "      <td>6</td>\n",
              "      <td>1</td>\n",
              "      <td>2</td>\n",
              "      <td>0</td>\n",
              "      <td>0</td>\n",
              "      <td>2</td>\n",
              "      <td>1</td>\n",
              "    </tr>\n",
              "    <tr>\n",
              "      <th>136617</th>\n",
              "      <td>3</td>\n",
              "      <td>1</td>\n",
              "      <td>3</td>\n",
              "      <td>7</td>\n",
              "      <td>4</td>\n",
              "      <td>6</td>\n",
              "      <td>40.0</td>\n",
              "      <td>0</td>\n",
              "      <td>-1</td>\n",
              "      <td>-1</td>\n",
              "      <td>0</td>\n",
              "      <td>0</td>\n",
              "      <td>4</td>\n",
              "      <td>1</td>\n",
              "      <td>1</td>\n",
              "      <td>0</td>\n",
              "      <td>0</td>\n",
              "      <td>2</td>\n",
              "      <td>1</td>\n",
              "    </tr>\n",
              "    <tr>\n",
              "      <th>136618</th>\n",
              "      <td>3</td>\n",
              "      <td>1</td>\n",
              "      <td>2</td>\n",
              "      <td>1</td>\n",
              "      <td>2</td>\n",
              "      <td>3</td>\n",
              "      <td>70.0</td>\n",
              "      <td>0</td>\n",
              "      <td>-1</td>\n",
              "      <td>-1</td>\n",
              "      <td>0</td>\n",
              "      <td>0</td>\n",
              "      <td>1</td>\n",
              "      <td>5</td>\n",
              "      <td>2</td>\n",
              "      <td>0</td>\n",
              "      <td>0</td>\n",
              "      <td>2</td>\n",
              "      <td>1</td>\n",
              "    </tr>\n",
              "  </tbody>\n",
              "</table>\n",
              "<p>136619 rows × 19 columns</p>\n",
              "</div>"
            ],
            "text/plain": [
              "        Accident_Severity  ...  Did_Police_Officer_Attend_Scene_of_Accident\n",
              "0                       3  ...                                            1\n",
              "1                       3  ...                                            1\n",
              "2                       3  ...                                            1\n",
              "3                       3  ...                                            1\n",
              "4                       3  ...                                            1\n",
              "...                   ...  ...                                          ...\n",
              "136614                  3  ...                                            1\n",
              "136615                  3  ...                                            1\n",
              "136616                  3  ...                                            1\n",
              "136617                  3  ...                                            1\n",
              "136618                  3  ...                                            1\n",
              "\n",
              "[136619 rows x 19 columns]"
            ]
          },
          "metadata": {
            "tags": []
          },
          "execution_count": 58
        }
      ]
    },
    {
      "cell_type": "markdown",
      "metadata": {
        "id": "29hTDOJOYpr-"
      },
      "source": [
        "DATA SPLITTING AND SCALING"
      ]
    },
    {
      "cell_type": "code",
      "metadata": {
        "id": "kT7oyOgIYu21"
      },
      "source": [
        "y=accident_data['Accident_Severity'].copy()\n",
        "X=accident_data.drop('Accident_Severity', axis=1).copy()"
      ],
      "execution_count": 72,
      "outputs": []
    },
    {
      "cell_type": "code",
      "metadata": {
        "colab": {
          "base_uri": "https://localhost:8080/"
        },
        "id": "0Y_60gieZgEy",
        "outputId": "7d4497ed-bb83-40e9-812c-e649b6b9e5b9"
      },
      "source": [
        "y.unique()"
      ],
      "execution_count": 74,
      "outputs": [
        {
          "output_type": "execute_result",
          "data": {
            "text/plain": [
              "array([3, 2, 1])"
            ]
          },
          "metadata": {
            "tags": []
          },
          "execution_count": 74
        }
      ]
    },
    {
      "cell_type": "code",
      "metadata": {
        "id": "01VILgpUaQBS"
      },
      "source": [
        "y=y-1"
      ],
      "execution_count": 75,
      "outputs": []
    },
    {
      "cell_type": "markdown",
      "metadata": {
        "id": "hYGhOz6e0kTS"
      },
      "source": [
        "*convert all the values to float*"
      ]
    },
    {
      "cell_type": "code",
      "metadata": {
        "id": "SbXqnNHwhwVp"
      },
      "source": [
        "X=X.astype(np.float)"
      ],
      "execution_count": 77,
      "outputs": []
    },
    {
      "cell_type": "markdown",
      "metadata": {
        "id": "A4mjkcEf0u_z"
      },
      "source": [
        "*scale the features*"
      ]
    },
    {
      "cell_type": "code",
      "metadata": {
        "id": "KpbHYpThiADP"
      },
      "source": [
        "scaler = StandardScaler()\n",
        "X=scaler.fit_transform(X)"
      ],
      "execution_count": 82,
      "outputs": []
    },
    {
      "cell_type": "code",
      "metadata": {
        "id": "l3pfZDfLiI7A"
      },
      "source": [
        "X_train, X_test, y_train, y_test = train_test_split(X, y, train_size=0.70, random_state=99)"
      ],
      "execution_count": 83,
      "outputs": []
    },
    {
      "cell_type": "markdown",
      "metadata": {
        "id": "jdh5Se1UjRf9"
      },
      "source": [
        "TRAINING"
      ]
    },
    {
      "cell_type": "code",
      "metadata": {
        "colab": {
          "base_uri": "https://localhost:8080/"
        },
        "id": "swVbV7xwjMoB",
        "outputId": "3513e96a-669f-4655-9e36-7460d27acc44"
      },
      "source": [
        "X.shape"
      ],
      "execution_count": 84,
      "outputs": [
        {
          "output_type": "execute_result",
          "data": {
            "text/plain": [
              "(136619, 18)"
            ]
          },
          "metadata": {
            "tags": []
          },
          "execution_count": 84
        }
      ]
    },
    {
      "cell_type": "code",
      "metadata": {
        "colab": {
          "base_uri": "https://localhost:8080/"
        },
        "id": "WLus2EVBjVwH",
        "outputId": "1a7ed70d-f2df-4abe-cbe4-4aa92e2a947d"
      },
      "source": [
        "inputs = tf.keras.Input(shape=(X.shape[1],))\n",
        "x = tf.keras.layers.Dense(64, activation=\"relu\")(inputs)\n",
        "x = tf.keras.layers.Dense(64, activation=\"relu\")(x)\n",
        "outputs = tf.keras.layers.Dense(3, activation=\"softmax\")(x)\n",
        "\n",
        "model = tf.keras.Model(inputs, outputs)\n",
        "\n",
        "model.compile(optimizer=\"adam\",\n",
        "    loss=\"sparse_categorical_crossentropy\",\n",
        "    metrics=[\"accuracy\"]\n",
        ")\n",
        "\n",
        "batch_size = 32\n",
        "epochs =20\n",
        "\n",
        "history = model.fit(\n",
        "    X_train,\n",
        "    y_train,\n",
        "    validation_split = 0.2,\n",
        "    batch_size = batch_size,\n",
        "    epochs = epochs,\n",
        "    callbacks=[\n",
        "               tf.keras.callbacks.ReduceLROnPlateau(),\n",
        "               tf.keras.callbacks.EarlyStopping(\n",
        "                   monitor = \"val_loss\",\n",
        "                   patience=3,\n",
        "                   restore_best_weights=True\n",
        "               )\n",
        "    ]\n",
        ")"
      ],
      "execution_count": 101,
      "outputs": [
        {
          "output_type": "stream",
          "text": [
            "Epoch 1/20\n",
            "2391/2391 [==============================] - 4s 2ms/step - loss: 0.4920 - accuracy: 0.8286 - val_loss: 0.4875 - val_accuracy: 0.8259\n",
            "Epoch 2/20\n",
            "2391/2391 [==============================] - 4s 2ms/step - loss: 0.4822 - accuracy: 0.8290 - val_loss: 0.4853 - val_accuracy: 0.8261\n",
            "Epoch 3/20\n",
            "2391/2391 [==============================] - 4s 2ms/step - loss: 0.4798 - accuracy: 0.8290 - val_loss: 0.4879 - val_accuracy: 0.8265\n",
            "Epoch 4/20\n",
            "2391/2391 [==============================] - 4s 2ms/step - loss: 0.4786 - accuracy: 0.8290 - val_loss: 0.4849 - val_accuracy: 0.8266\n",
            "Epoch 5/20\n",
            "2391/2391 [==============================] - 4s 2ms/step - loss: 0.4777 - accuracy: 0.8291 - val_loss: 0.4835 - val_accuracy: 0.8258\n",
            "Epoch 6/20\n",
            "2391/2391 [==============================] - 4s 2ms/step - loss: 0.4764 - accuracy: 0.8292 - val_loss: 0.4853 - val_accuracy: 0.8263\n",
            "Epoch 7/20\n",
            "2391/2391 [==============================] - 6s 2ms/step - loss: 0.4757 - accuracy: 0.8292 - val_loss: 0.4839 - val_accuracy: 0.8264\n",
            "Epoch 8/20\n",
            "2391/2391 [==============================] - 4s 2ms/step - loss: 0.4752 - accuracy: 0.8293 - val_loss: 0.4840 - val_accuracy: 0.8266\n"
          ],
          "name": "stdout"
        }
      ]
    },
    {
      "cell_type": "code",
      "metadata": {
        "colab": {
          "base_uri": "https://localhost:8080/"
        },
        "id": "iCUV7Y7xl1rK",
        "outputId": "4d274dd9-c3fe-4a2b-f52e-081ca1a8ec7b"
      },
      "source": [
        "model.summary()"
      ],
      "execution_count": 102,
      "outputs": [
        {
          "output_type": "stream",
          "text": [
            "Model: \"model_2\"\n",
            "_________________________________________________________________\n",
            "Layer (type)                 Output Shape              Param #   \n",
            "=================================================================\n",
            "input_3 (InputLayer)         [(None, 18)]              0         \n",
            "_________________________________________________________________\n",
            "dense_6 (Dense)              (None, 64)                1216      \n",
            "_________________________________________________________________\n",
            "dense_7 (Dense)              (None, 64)                4160      \n",
            "_________________________________________________________________\n",
            "dense_8 (Dense)              (None, 3)                 195       \n",
            "=================================================================\n",
            "Total params: 5,571\n",
            "Trainable params: 5,571\n",
            "Non-trainable params: 0\n",
            "_________________________________________________________________\n"
          ],
          "name": "stdout"
        }
      ]
    },
    {
      "cell_type": "code",
      "metadata": {
        "colab": {
          "base_uri": "https://localhost:8080/"
        },
        "id": "2egUdp31jvc6",
        "outputId": "5ecf60e7-ff20-4fa7-ee3b-5319a098d89d"
      },
      "source": [
        " print(\"Test Accuracy:\", model.evaluate(X_test, y_test, verbose=0)[1])"
      ],
      "execution_count": 108,
      "outputs": [
        {
          "output_type": "stream",
          "text": [
            "Test Accuracy: 0.8292099833488464\n"
          ],
          "name": "stdout"
        }
      ]
    }
  ]
}